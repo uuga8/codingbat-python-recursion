{
 "cells": [
  {
   "cell_type": "code",
   "execution_count": 99,
   "metadata": {},
   "outputs": [],
   "source": [
    "import requests"
   ]
  },
  {
   "cell_type": "code",
   "execution_count": 100,
   "metadata": {},
   "outputs": [],
   "source": [
    "base_url = 'https://codingbat.com'"
   ]
  },
  {
   "cell_type": "code",
   "execution_count": 101,
   "metadata": {},
   "outputs": [],
   "source": [
    "url = 'https://codingbat.com/java/Recursion-1'\n",
    "page = requests.get(url)"
   ]
  },
  {
   "cell_type": "code",
   "execution_count": 102,
   "metadata": {},
   "outputs": [],
   "source": [
    "from bs4 import BeautifulSoup"
   ]
  },
  {
   "cell_type": "code",
   "execution_count": 103,
   "metadata": {},
   "outputs": [],
   "source": [
    "soup = BeautifulSoup(page.content, 'html.parser')"
   ]
  },
  {
   "cell_type": "code",
   "execution_count": 104,
   "metadata": {},
   "outputs": [
    {
     "data": {
      "text/plain": [
       "[('factorial', 'https://codingbat.com/prob/p154669'),\n",
       " ('bunnyEars', 'https://codingbat.com/prob/p183649'),\n",
       " ('fibonacci', 'https://codingbat.com/prob/p120015'),\n",
       " ('bunnyEars2', 'https://codingbat.com/prob/p107330'),\n",
       " ('triangle', 'https://codingbat.com/prob/p194781'),\n",
       " ('sumDigits', 'https://codingbat.com/prob/p163932'),\n",
       " ('count7', 'https://codingbat.com/prob/p101409'),\n",
       " ('count8', 'https://codingbat.com/prob/p192383'),\n",
       " ('powerN', 'https://codingbat.com/prob/p158888'),\n",
       " ('countX', 'https://codingbat.com/prob/p170371'),\n",
       " ('countHi', 'https://codingbat.com/prob/p184029'),\n",
       " ('changeXY', 'https://codingbat.com/prob/p101372'),\n",
       " ('changePi', 'https://codingbat.com/prob/p170924'),\n",
       " ('noX', 'https://codingbat.com/prob/p118230'),\n",
       " ('array6', 'https://codingbat.com/prob/p108997'),\n",
       " ('array11', 'https://codingbat.com/prob/p135988'),\n",
       " ('array220', 'https://codingbat.com/prob/p173469'),\n",
       " ('allStar', 'https://codingbat.com/prob/p183394'),\n",
       " ('pairStar', 'https://codingbat.com/prob/p158175'),\n",
       " ('endX', 'https://codingbat.com/prob/p105722'),\n",
       " ('countPairs', 'https://codingbat.com/prob/p154048'),\n",
       " ('countAbc', 'https://codingbat.com/prob/p161124'),\n",
       " ('count11', 'https://codingbat.com/prob/p167015'),\n",
       " ('stringClean', 'https://codingbat.com/prob/p104029'),\n",
       " ('countHi2', 'https://codingbat.com/prob/p143900'),\n",
       " ('parenBit', 'https://codingbat.com/prob/p137918'),\n",
       " ('nestParen', 'https://codingbat.com/prob/p183174'),\n",
       " ('strCount', 'https://codingbat.com/prob/p186177'),\n",
       " ('strCopies', 'https://codingbat.com/prob/p118182'),\n",
       " ('strDist', 'https://codingbat.com/prob/p195413')]"
      ]
     },
     "execution_count": 104,
     "metadata": {},
     "output_type": "execute_result"
    }
   ],
   "source": [
    "nodes = soup.find('div', class_='tabin').find('table').findAll('a')\n",
    "links = list(map(lambda node: (node.text, f\"{base_url}{node['href']}\"), nodes))\n",
    "links"
   ]
  },
  {
   "cell_type": "code",
   "execution_count": 183,
   "metadata": {},
   "outputs": [],
   "source": [
    "from bs4.element import NavigableString\n",
    "\n",
    "class Problem:\n",
    "    def __init__(self, url, name, statement, code, tests):\n",
    "        self.url = url\n",
    "        self.name = name\n",
    "        self.statement = statement\n",
    "        self.code = code\n",
    "        self.tests = tests\n",
    "        \n",
    "\n",
    "def parse_problem(name, url):\n",
    "    page = requests.get(url)\n",
    "    soup = BeautifulSoup(page.content, 'html.parser')\n",
    "\n",
    "    statement = soup.find('p', class_='max2').get_text('\\n', strip=True)\n",
    "    \n",
    "    node = soup.find('p', class_='max2').next.next\n",
    "    tests = []\n",
    "    while node.name != 'p':\n",
    "        if isinstance(node, NavigableString):\n",
    "            tests.append(str(node))\n",
    "        node = node.next\n",
    "        \n",
    "    code = soup.find('form', {'name': 'codeform'}).get_text('\\n', strip=True)\n",
    "    return Problem(url, name, statement, code, tests)\n",
    "    "
   ]
  },
  {
   "cell_type": "code",
   "execution_count": 184,
   "metadata": {},
   "outputs": [],
   "source": [
    "problems = list(map(lambda problem: parse_problem(*problem), links))"
   ]
  },
  {
   "cell_type": "code",
   "execution_count": 185,
   "metadata": {},
   "outputs": [
    {
     "data": {
      "text/plain": [
       "30"
      ]
     },
     "execution_count": 185,
     "metadata": {},
     "output_type": "execute_result"
    }
   ],
   "source": [
    "len(problems)"
   ]
  },
  {
   "cell_type": "code",
   "execution_count": 186,
   "metadata": {},
   "outputs": [],
   "source": [
    "import re\n",
    "import keyword\n",
    "\n",
    "KEYWORDS = set(keyword.kwlist)\n",
    "NAME_LOOKUP = {'str': 's'}\n",
    "TYPE_LOOKUP = {'String': 'str', 'boolean': 'bool', 'int[]': 'List[int]'}\n",
    "\n",
    "\n",
    "def fix_name(name):\n",
    "    if name in KEYWORDS:\n",
    "        return f'{name}_'\n",
    "    \n",
    "    return NAME_LOOKUP.get(name, name)\n",
    "\n",
    "\n",
    "def fix_type(type_name):\n",
    "    return TYPE_LOOKUP.get(type_name, type_name)\n",
    "\n",
    "\n",
    "def parse_args(args):\n",
    "    res = []\n",
    "    for token in args.split(','):\n",
    "        type_, name = token.split()\n",
    "        res.append(f'{fix_name(name)}: {fix_type(type_)}')\n",
    "    \n",
    "    return res\n",
    "    \n",
    "\n",
    "def java_to_python(code):\n",
    "    match = re.match(f'public ([\\w\\d]+) ([\\w\\d_]+)\\((.*?)\\)', code)\n",
    "    return_type, name, args = fix_type(match[1]), fix_name(match[2]), match[3]\n",
    "    args = parse_args(args)\n",
    "    \n",
    "    return f'def {name}({\", \".join(args)}) -> {return_type}:'"
   ]
  },
  {
   "cell_type": "code",
   "execution_count": 191,
   "metadata": {},
   "outputs": [],
   "source": [
    "TAB = '    '\n",
    "\n",
    "def break_lines(lines, max_len):\n",
    "    res = []\n",
    "    for line in lines:\n",
    "        words = []\n",
    "        line_len = 0\n",
    "        for word in line.split():\n",
    "            if line_len > 0:\n",
    "                line_len += 1\n",
    "            line_len += len(word)\n",
    "            \n",
    "            if line_len > max_len:\n",
    "                res.append(' '.join(words))\n",
    "                words = [word]\n",
    "                line_len = len(word)\n",
    "            else:\n",
    "                words.append(word)\n",
    "        \n",
    "        if words:\n",
    "            res.append(' '.join(words))\n",
    "            \n",
    "    return res\n",
    "\n",
    "def format_statement(statement, max_len=116):\n",
    "    lines = break_lines(statement.split('\\n'), max_len)\n",
    "    return '\\n'.join(f'{TAB}{line}' for line in lines)\n",
    "    "
   ]
  },
  {
   "cell_type": "code",
   "execution_count": 192,
   "metadata": {},
   "outputs": [
    {
     "name": "stdout",
     "output_type": "stream",
     "text": [
      "Exporting 00.factorial.py...\n",
      "Exporting 01.bunnyEars.py...\n",
      "Exporting 02.fibonacci.py...\n",
      "Exporting 03.bunnyEars2.py...\n",
      "Exporting 04.triangle.py...\n",
      "Exporting 05.sumDigits.py...\n",
      "Exporting 06.count7.py...\n",
      "Exporting 07.count8.py...\n",
      "Exporting 08.powerN.py...\n",
      "Exporting 09.countX.py...\n",
      "Exporting 10.countHi.py...\n",
      "Exporting 11.changeXY.py...\n",
      "Exporting 12.changePi.py...\n",
      "Exporting 13.noX.py...\n",
      "Exporting 14.array6.py...\n",
      "Exporting 15.array11.py...\n",
      "Exporting 16.array220.py...\n",
      "Exporting 17.allStar.py...\n",
      "Exporting 18.pairStar.py...\n",
      "Exporting 19.endX.py...\n",
      "Exporting 20.countPairs.py...\n",
      "Exporting 21.countAbc.py...\n",
      "Exporting 22.count11.py...\n",
      "Exporting 23.stringClean.py...\n",
      "Exporting 24.countHi2.py...\n",
      "Exporting 25.parenBit.py...\n",
      "Exporting 26.nestParen.py...\n",
      "Exporting 27.strCount.py...\n",
      "Exporting 28.strCopies.py...\n",
      "Exporting 29.strDist.py...\n"
     ]
    }
   ],
   "source": [
    "def export_problem(problem, filename):\n",
    "    declaration = java_to_python(problem.code)\n",
    "    statement =  format_statement('\"\"\"\\n' + problem.statement + '\\n\\n' + '\\n'.join(problem.tests) + '\\n\"\"\"')\n",
    "    \n",
    "    lines = []\n",
    "    lines.append('from unittest import TestCase')\n",
    "    if re.search(r'List\\[.*?\\]', declaration):\n",
    "        lines.append('from typing import List')\n",
    "    lines.append('')\n",
    "    lines.append('')\n",
    "        \n",
    "    lines.append(declaration)\n",
    "    lines.append(statement)\n",
    "    lines.append(TAB + 'pass')\n",
    "    \n",
    "    lines.append('')\n",
    "    lines.append('')\n",
    "    lines.append('class Test(TestCase):')\n",
    "    lines.append(TAB + 'pass')\n",
    "    lines.append('')\n",
    "\n",
    "    with open(filename, 'w') as f:\n",
    "        f.write('\\n'.join(lines))\n",
    "\n",
    "\n",
    "for idx, problem in enumerate(problems):\n",
    "    filename = f'{idx:02d}.{problem.name}.py'\n",
    "    print(f'Exporting {filename}...')\n",
    "    export_problem(problem, filename)\n"
   ]
  },
  {
   "cell_type": "code",
   "execution_count": null,
   "metadata": {},
   "outputs": [],
   "source": []
  },
  {
   "cell_type": "code",
   "execution_count": null,
   "metadata": {},
   "outputs": [],
   "source": []
  }
 ],
 "metadata": {
  "kernelspec": {
   "display_name": "Python 3",
   "language": "python",
   "name": "python3"
  },
  "language_info": {
   "codemirror_mode": {
    "name": "ipython",
    "version": 3
   },
   "file_extension": ".py",
   "mimetype": "text/x-python",
   "name": "python",
   "nbconvert_exporter": "python",
   "pygments_lexer": "ipython3",
   "version": "3.8.6"
  }
 },
 "nbformat": 4,
 "nbformat_minor": 4
}
