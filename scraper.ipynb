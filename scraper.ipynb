{
 "cells": [
  {
   "cell_type": "markdown",
   "metadata": {},
   "source": [
    "# The codingbat.com web page scraper"
   ]
  },
  {
   "cell_type": "markdown",
   "metadata": {},
   "source": [
    "## Step 1: Obtain problem statements"
   ]
  },
  {
   "cell_type": "code",
   "execution_count": null,
   "metadata": {},
   "outputs": [],
   "source": [
    "import requests"
   ]
  },
  {
   "cell_type": "code",
   "execution_count": null,
   "metadata": {},
   "outputs": [],
   "source": [
    "base_url = 'https://codingbat.com'"
   ]
  },
  {
   "cell_type": "code",
   "execution_count": null,
   "metadata": {},
   "outputs": [],
   "source": [
    "# url = 'https://codingbat.com/java/Recursion-1'\n",
    "url = 'https://codingbat.com/java/Recursion-2'\n",
    "page = requests.get(url)"
   ]
  },
  {
   "cell_type": "code",
   "execution_count": null,
   "metadata": {},
   "outputs": [],
   "source": [
    "from bs4 import BeautifulSoup"
   ]
  },
  {
   "cell_type": "code",
   "execution_count": null,
   "metadata": {},
   "outputs": [],
   "source": [
    "soup = BeautifulSoup(page.content, 'html.parser')"
   ]
  },
  {
   "cell_type": "code",
   "execution_count": null,
   "metadata": {},
   "outputs": [],
   "source": [
    "nodes = soup.find('div', class_='tabin').find('table').findAll('a')\n",
    "links = list(map(lambda node: (node.text, f\"{base_url}{node['href']}\"), nodes))\n",
    "links"
   ]
  },
  {
   "cell_type": "code",
   "execution_count": null,
   "metadata": {},
   "outputs": [],
   "source": [
    "from bs4.element import NavigableString\n",
    "\n",
    "class Problem:\n",
    "    def __init__(self, url, name, statement, code, examples, tests=[]):\n",
    "        self.url = url\n",
    "        self.name = name\n",
    "        self.statement = statement\n",
    "        self.code = code\n",
    "        self.tests = tests\n",
    "        self.examples = examples\n",
    "        \n",
    "\n",
    "def parse_problem(name, url):\n",
    "    page = requests.get(url)\n",
    "    soup = BeautifulSoup(page.content, 'html.parser')\n",
    "\n",
    "    statement = soup.find('p', class_='max2').get_text('\\n', strip=True)\n",
    "    \n",
    "    node = soup.find('p', class_='max2').next.next\n",
    "    tests = []\n",
    "    while node.name != 'p':\n",
    "        if isinstance(node, NavigableString):\n",
    "            tests.append(str(node))\n",
    "        node = node.next\n",
    "        \n",
    "    code = soup.find('form', {'name': 'codeform'}).get_text('\\n', strip=True)\n",
    "    return Problem(url, name, statement, code, tests)\n",
    "    "
   ]
  },
  {
   "cell_type": "code",
   "execution_count": null,
   "metadata": {},
   "outputs": [],
   "source": [
    "problems = list(map(lambda problem: parse_problem(*problem), links))"
   ]
  },
  {
   "cell_type": "code",
   "execution_count": null,
   "metadata": {},
   "outputs": [],
   "source": [
    "len(problems)"
   ]
  },
  {
   "cell_type": "markdown",
   "metadata": {},
   "source": [
    "## Step 2. Obtain test cases"
   ]
  },
  {
   "cell_type": "markdown",
   "metadata": {},
   "source": [
    "### Step 2.1. Login into account which has all the problems already solved"
   ]
  },
  {
   "cell_type": "code",
   "execution_count": null,
   "metadata": {},
   "outputs": [],
   "source": [
    "from selenium import webdriver\n",
    "from webdriver_manager.chrome import ChromeDriverManager\n",
    "\n",
    "options = webdriver.ChromeOptions()\n",
    "options.add_argument('--ignore-certificate-errors')\n",
    "options.add_argument('--incognito')\n",
    "options.add_argument('--headless')\n",
    "\n",
    "driver = webdriver.Chrome(ChromeDriverManager().install(), options=options)\n",
    "\n",
    "url = 'https://codingbat.com/java'\n",
    "driver.get(url)"
   ]
  },
  {
   "cell_type": "markdown",
   "metadata": {},
   "source": [
    "Provide credentials"
   ]
  },
  {
   "cell_type": "code",
   "execution_count": null,
   "metadata": {},
   "outputs": [],
   "source": [
    "username = ''\n",
    "password = ''"
   ]
  },
  {
   "cell_type": "code",
   "execution_count": null,
   "metadata": {},
   "outputs": [],
   "source": [
    "driver.find_element_by_xpath('/html/body/div[1]/table/tbody/tr[1]/td[2]/input').send_keys(username)\n",
    "driver.find_element_by_xpath('/html/body/div[1]/table/tbody/tr[2]/td[2]/input').send_keys(password)"
   ]
  },
  {
   "cell_type": "markdown",
   "metadata": {},
   "source": [
    "Login"
   ]
  },
  {
   "cell_type": "code",
   "execution_count": null,
   "metadata": {},
   "outputs": [],
   "source": [
    "driver.find_element_by_xpath('/html/body/div[1]/table/tbody/tr[3]/td[2]/input').click()"
   ]
  },
  {
   "cell_type": "markdown",
   "metadata": {},
   "source": [
    "### Step 2.2. Start scraping test cases"
   ]
  },
  {
   "cell_type": "code",
   "execution_count": null,
   "metadata": {},
   "outputs": [],
   "source": [
    "from selenium.webdriver.support.ui import WebDriverWait\n",
    "from selenium.webdriver.common.by import By\n",
    "from selenium.webdriver.support import expected_conditions as EC\n",
    "import re\n",
    "\n",
    "def fix_inputs(inputs):\n",
    "    inputs = inputs.replace('true', 'True')\n",
    "    inputs = inputs.replace('false', 'False')\n",
    "    return inputs\n",
    "\n",
    "def resolve_tests(problem):\n",
    "    url = problem.url\n",
    "    \n",
    "    # open problem page\n",
    "    driver.get(url)\n",
    "    \n",
    "    # submit previous solution\n",
    "    WebDriverWait(driver, 10).until(EC.presence_of_element_located((By.XPATH, \"/html/body/div[4]/div/div/table/tbody/tr/td[1]/p/button\"))).click()\n",
    "    \n",
    "    # wait until results are ready\n",
    "    WebDriverWait(driver, 10).until(EC.presence_of_element_located((By.XPATH, \"/html/body/div[4]/div/div/table/tbody/tr/td[2]/div/div\")))\n",
    "    \n",
    "    # extract test cases\n",
    "    soup = BeautifulSoup(driver.page_source, 'html.parser')\n",
    "    \n",
    "    def extract_test(node):\n",
    "        value = node.find('td').text\n",
    "        match = re.match(f'(.*) → (.*)', value)\n",
    "        return fix_inputs(match[1]), fix_inputs(match[2])\n",
    "    \n",
    "    rows = soup.find('div', id='tests').findAll('tr')[1:-2]\n",
    "    tests = list(map(extract_test, rows))\n",
    "    \n",
    "    problem.tests = tests\n",
    "    "
   ]
  },
  {
   "cell_type": "code",
   "execution_count": null,
   "metadata": {},
   "outputs": [],
   "source": [
    "for problem in problems:\n",
    "    print(f'Resolving tests {problem.name}...')\n",
    "    resolve_tests(problem)"
   ]
  },
  {
   "cell_type": "markdown",
   "metadata": {},
   "source": [
    "## Step 3. Export problems"
   ]
  },
  {
   "cell_type": "code",
   "execution_count": null,
   "metadata": {},
   "outputs": [],
   "source": [
    "import re\n",
    "import keyword\n",
    "\n",
    "KEYWORDS = set(keyword.kwlist)\n",
    "NAME_LOOKUP = {'str': 's'}\n",
    "TYPE_LOOKUP = {'String': 'str', 'boolean': 'bool', 'int[]': 'List[int]'}\n",
    "\n",
    "\n",
    "def fix_name(name):\n",
    "    if name in KEYWORDS:\n",
    "        return f'{name}_'\n",
    "    \n",
    "    return NAME_LOOKUP.get(name, name)\n",
    "\n",
    "\n",
    "def fix_type(type_name):\n",
    "    return TYPE_LOOKUP.get(type_name, type_name)\n",
    "\n",
    "\n",
    "def parse_args(args):\n",
    "    res = []\n",
    "    for token in args.split(','):\n",
    "        type_, name = token.split()\n",
    "        res.append(f'{fix_name(name)}: {fix_type(type_)}')\n",
    "    \n",
    "    return res\n",
    "    \n",
    "\n",
    "def java_to_python(code):\n",
    "    match = re.match(f'public ([\\w\\d]+) ([\\w\\d_]+)\\((.*?)\\)', code)\n",
    "    return_type, name, args = fix_type(match[1]), fix_name(match[2]), match[3]\n",
    "    args = parse_args(args)\n",
    "    \n",
    "    return f'def {name}({\", \".join(args)}) -> {return_type}:'"
   ]
  },
  {
   "cell_type": "code",
   "execution_count": null,
   "metadata": {},
   "outputs": [],
   "source": [
    "TAB = '    '\n",
    "\n",
    "def break_lines(lines, max_len):\n",
    "    res = []\n",
    "    for line in lines:\n",
    "        if len(line) == 0:\n",
    "            res.append('')\n",
    "            continue\n",
    "        \n",
    "        words = []\n",
    "        line_len = 0\n",
    "        for word in line.split():\n",
    "            if line_len > 0:\n",
    "                line_len += 1\n",
    "            line_len += len(word)\n",
    "            \n",
    "            if line_len > max_len:\n",
    "                res.append(' '.join(words))\n",
    "                words = [word]\n",
    "                line_len = len(word)\n",
    "            else:\n",
    "                words.append(word)\n",
    "        \n",
    "        if words:\n",
    "            res.append(' '.join(words))\n",
    "            \n",
    "    return res\n",
    "\n",
    "def format_statement(statement, max_len=116):\n",
    "    lines = break_lines(statement.split('\\n'), max_len)\n",
    "    return '\\n'.join(f'{TAB}{line}' for line in lines)\n",
    "    "
   ]
  },
  {
   "cell_type": "code",
   "execution_count": null,
   "metadata": {},
   "outputs": [],
   "source": [
    "def export_problem(problem, filename):\n",
    "    declaration = java_to_python(problem.code)\n",
    "    statement =  format_statement('\"\"\"\\n' + problem.statement + '\\n\\nExamples:\\n' + '\\n'.join(problem.examples) + '\\n\"\"\"')\n",
    "    \n",
    "    lines = []\n",
    "    lines.append('from unittest import TestCase')\n",
    "    if re.search(r'List\\[.*?\\]', declaration):\n",
    "        lines.append('from typing import List')\n",
    "    lines.append('')\n",
    "    lines.append('')\n",
    "        \n",
    "    lines.append(declaration)\n",
    "    lines.append(statement)\n",
    "    lines.append(TAB + 'pass')\n",
    "    \n",
    "    lines.append('')\n",
    "    lines.append('')\n",
    "    lines.append('class Test(TestCase):')\n",
    "    for i, (code, value) in enumerate(problem.tests):\n",
    "        if i > 0:\n",
    "            lines.append('')\n",
    "        lines.append(f'{TAB}def test{i + 1}(self):')\n",
    "        if value in ['True', 'False']:\n",
    "            lines.append(f'{TAB}{TAB}self.assert{value}({code})')\n",
    "        else:\n",
    "            lines.append(f'{TAB}{TAB}self.assertEqual({value}, {code})')\n",
    "    \n",
    "    lines.append('')\n",
    "\n",
    "    with open(filename, 'w') as f:\n",
    "        f.write('\\n'.join(lines))\n",
    "\n",
    "\n",
    "for idx, problem in enumerate(problems):\n",
    "    filename = f'R{idx:02d}_{problem.name}.py'\n",
    "    print(f'Exporting {filename}...')\n",
    "    export_problem(problem, filename)\n"
   ]
  },
  {
   "cell_type": "code",
   "execution_count": null,
   "metadata": {},
   "outputs": [],
   "source": [
    "driver.quit()"
   ]
  }
 ],
 "metadata": {
  "kernelspec": {
   "display_name": "Python 3",
   "language": "python",
   "name": "python3"
  },
  "language_info": {
   "codemirror_mode": {
    "name": "ipython",
    "version": 3
   },
   "file_extension": ".py",
   "mimetype": "text/x-python",
   "name": "python",
   "nbconvert_exporter": "python",
   "pygments_lexer": "ipython3",
   "version": "3.8.6"
  }
 },
 "nbformat": 4,
 "nbformat_minor": 4
}
